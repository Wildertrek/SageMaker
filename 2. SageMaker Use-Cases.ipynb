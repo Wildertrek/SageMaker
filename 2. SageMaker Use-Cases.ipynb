{
 "cells": [
  {
   "cell_type": "markdown",
   "metadata": {},
   "source": [
    "Large list of use-case examples at https://github.com/awslabs/amazon-sagemaker-examples. \n",
    "\n",
    "These are complete jupyter notebooks you can download or spin up in SageMaker in your own account.\n",
    "\n",
    "A number of workshop style examples as well.\n",
    "\n",
    "https://www.eksworkshop.com/advanced/420_kubeflow/\n",
    "\n",
    "https://sagemaker-workshop.com/\n",
    "\n",
    "https://www.sagemakerworkshop.com/\n",
    "\n",
    "https://www.getstartedonsagemaker.com/\n",
    "\n",
    "https://github.com/aws-samples/TensorFlow-in-SageMaker-workshop\n",
    "\n",
    "https://github.com/awslabs/amazon-sagemaker-mlops-workshop\n",
    "\n",
    "https://github.com/aws-samples/mlops-amazon-sagemaker-devops-with-ml"
   ]
  },
  {
   "cell_type": "code",
   "execution_count": null,
   "metadata": {},
   "outputs": [],
   "source": []
  }
 ],
 "metadata": {
  "kernelspec": {
   "display_name": "Python 3",
   "language": "python",
   "name": "python3"
  },
  "language_info": {
   "codemirror_mode": {
    "name": "ipython",
    "version": 3
   },
   "file_extension": ".py",
   "mimetype": "text/x-python",
   "name": "python",
   "nbconvert_exporter": "python",
   "pygments_lexer": "ipython3",
   "version": "3.7.4"
  }
 },
 "nbformat": 4,
 "nbformat_minor": 4
}
