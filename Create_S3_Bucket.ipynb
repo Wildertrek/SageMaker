{
 "cells": [
  {
   "cell_type": "markdown",
   "metadata": {},
   "source": [
    "## Create S3 Bucket"
   ]
  },
  {
   "cell_type": "markdown",
   "metadata": {},
   "source": [
    "### First thing we have to create on AWS is an S3 bucket to keep our data contained in\n",
    "\n",
    "To use Python in our Juptyer notebooks on AWS we need to first import boto3\n",
    "\n",
    "- __Boto__ is the Amazon Web Services (AWS) SDK for Python. \n",
    "- It enables Python developers to create, configure, and manage AWS services, \n",
    "- such as EC2 and S3. Boto provides an easy to use, object-oriented API, \n",
    "- as well as low-level access to AWS services.\n",
    "\n",
    "https://boto3.amazonaws.com/v1/documentation/api/latest/index.html"
   ]
  },
  {
   "cell_type": "markdown",
   "metadata": {},
   "source": [
    "### Next we need to import the Sagemaker Python SDK:\n",
    "\n",
    "- __SageMaker Python SDK__ provides several high-level abstractions for working with Amazon SageMaker. These are:\n",
    "\n",
    "- __Estimators:__ Encapsulate training on SageMaker.\n",
    "\n",
    "- __Models:__ Encapsulate built ML models.\n",
    "\n",
    "- __Predictors:__ Provide real-time inference and transformation using Python data-types against a SageMaker endpoint.\n",
    "\n",
    "- __Session:__ Provides a collection of methods for working with SageMaker resources.\n",
    "\n",
    "- __Transformers:__ Encapsulate batch transform jobs for inference on SageMaker\n",
    "\n",
    "- __Processors:__ Encapsulate running processing jobs for data processing on SageMaker\n",
    "\n",
    "https://sagemaker.readthedocs.io/en/stable/index.html\n",
    "https://sagemaker.readthedocs.io/en/stable/overview.html"
   ]
  },
  {
   "cell_type": "code",
   "execution_count": 9,
   "metadata": {},
   "outputs": [],
   "source": [
    "import boto3\n",
    "import sagemaker\n",
    "\n",
    "# Get current region \n",
    "session = boto3.session.Session()\n",
    "region_name = session.region_name\n",
    "\n",
    "# Get SageMaker session & default S3 bucket\n",
    "sagemaker_session = sagemaker.Session()\n",
    "bucket = sagemaker_session.default_bucket()"
   ]
  },
  {
   "cell_type": "markdown",
   "metadata": {},
   "source": [
    "### Check to see if was created"
   ]
  },
  {
   "cell_type": "code",
   "execution_count": 8,
   "metadata": {},
   "outputs": [
    {
     "name": "stdout",
     "output_type": "stream",
     "text": [
      "Default bucket: sagemaker-us-east-2-533787958253\n"
     ]
    }
   ],
   "source": [
    "print('Default bucket: {}'.format(bucket))"
   ]
  },
  {
   "cell_type": "markdown",
   "metadata": {},
   "source": [
    "### Verify S3 Bucket Creation"
   ]
  },
  {
   "cell_type": "code",
   "execution_count": 13,
   "metadata": {},
   "outputs": [
    {
     "name": "stdout",
     "output_type": "stream",
     "text": [
      "2020-03-04 22:00:41 coe-ai-video\n",
      "2020-03-04 19:39:23 coe-cal-ai-polly-anil\n",
      "2020-03-04 17:56:16 coe-faas\n",
      "2020-03-26 17:28:18 coe-opm-faces\n",
      "2020-03-09 16:58:45 rekognition-video-console-demo-cmh-533787958253-tubndls8jejq0n\n",
      "2020-03-03 18:41:08 sagemaker-studio-0qnahwofwbs\n",
      "2020-03-03 15:56:05 sagemaker-studio-3rk9wz4j1uh\n",
      "2020-03-03 18:32:07 sagemaker-studio-fbc9rb6owm\n",
      "2020-03-03 17:45:10 sagemaker-studio-k06y0dzfxg\n",
      "2020-03-03 18:51:13 sagemaker-studio-k0n6398mj8\n",
      "2020-03-03 17:35:55 sagemaker-studio-mwp36qinptr\n",
      "2020-03-03 18:41:30 sagemaker-studio-qlfop46x0ji\n",
      "2020-03-03 17:48:24 sagemaker-studio-wa13v0wmlme\n",
      "2020-04-27 14:05:08 sagemaker-us-east-2-533787958253\n"
     ]
    }
   ],
   "source": [
    "%%bash\n",
    "aws s3 ls s3://${bucket}/"
   ]
  },
  {
   "cell_type": "code",
   "execution_count": 11,
   "metadata": {},
   "outputs": [],
   "source": [
    "# Retrieve the list of existing buckets\n",
    "s3 = boto3.client('s3')\n",
    "response = s3.list_buckets()"
   ]
  },
  {
   "cell_type": "code",
   "execution_count": 12,
   "metadata": {},
   "outputs": [
    {
     "name": "stdout",
     "output_type": "stream",
     "text": [
      "{'ResponseMetadata': {'RequestId': 'FF3C992872C0A20D', 'HostId': 's83EWcFSIdTEXBCUdqjP2SZhMzhrvg/gm8bBCWPPoFw6f/ZeypO71JpnLO6OjmZIfG8R9o4l5lY=', 'HTTPStatusCode': 200, 'HTTPHeaders': {'x-amz-id-2': 's83EWcFSIdTEXBCUdqjP2SZhMzhrvg/gm8bBCWPPoFw6f/ZeypO71JpnLO6OjmZIfG8R9o4l5lY=', 'x-amz-request-id': 'FF3C992872C0A20D', 'date': 'Wed, 29 Apr 2020 14:15:21 GMT', 'content-type': 'application/xml', 'transfer-encoding': 'chunked', 'server': 'AmazonS3'}, 'RetryAttempts': 0}, 'Buckets': [{'Name': 'coe-ai-video', 'CreationDate': datetime.datetime(2020, 3, 4, 22, 0, 41, tzinfo=tzlocal())}, {'Name': 'coe-cal-ai-polly-anil', 'CreationDate': datetime.datetime(2020, 3, 4, 19, 39, 23, tzinfo=tzlocal())}, {'Name': 'coe-faas', 'CreationDate': datetime.datetime(2020, 3, 4, 17, 56, 16, tzinfo=tzlocal())}, {'Name': 'coe-opm-faces', 'CreationDate': datetime.datetime(2020, 3, 26, 17, 28, 18, tzinfo=tzlocal())}, {'Name': 'rekognition-video-console-demo-cmh-533787958253-tubndls8jejq0n', 'CreationDate': datetime.datetime(2020, 3, 9, 16, 58, 45, tzinfo=tzlocal())}, {'Name': 'sagemaker-studio-0qnahwofwbs', 'CreationDate': datetime.datetime(2020, 3, 3, 18, 41, 8, tzinfo=tzlocal())}, {'Name': 'sagemaker-studio-3rk9wz4j1uh', 'CreationDate': datetime.datetime(2020, 3, 3, 15, 56, 5, tzinfo=tzlocal())}, {'Name': 'sagemaker-studio-fbc9rb6owm', 'CreationDate': datetime.datetime(2020, 3, 3, 18, 32, 7, tzinfo=tzlocal())}, {'Name': 'sagemaker-studio-k06y0dzfxg', 'CreationDate': datetime.datetime(2020, 3, 3, 17, 45, 10, tzinfo=tzlocal())}, {'Name': 'sagemaker-studio-k0n6398mj8', 'CreationDate': datetime.datetime(2020, 3, 3, 18, 51, 13, tzinfo=tzlocal())}, {'Name': 'sagemaker-studio-mwp36qinptr', 'CreationDate': datetime.datetime(2020, 3, 3, 17, 35, 55, tzinfo=tzlocal())}, {'Name': 'sagemaker-studio-qlfop46x0ji', 'CreationDate': datetime.datetime(2020, 3, 3, 18, 41, 30, tzinfo=tzlocal())}, {'Name': 'sagemaker-studio-wa13v0wmlme', 'CreationDate': datetime.datetime(2020, 3, 3, 17, 48, 24, tzinfo=tzlocal())}, {'Name': 'sagemaker-us-east-2-533787958253', 'CreationDate': datetime.datetime(2020, 4, 27, 14, 5, 8, tzinfo=tzlocal())}], 'Owner': {'ID': '5c16ee03e307739591b6da3c87beb77a30606bdfa07f010c71a6e0024b6f8a7a'}}\n"
     ]
    }
   ],
   "source": [
    "print(response)"
   ]
  },
  {
   "cell_type": "code",
   "execution_count": null,
   "metadata": {},
   "outputs": [],
   "source": []
  }
 ],
 "metadata": {
  "kernelspec": {
   "display_name": "conda_python3",
   "language": "python",
   "name": "conda_python3"
  },
  "language_info": {
   "codemirror_mode": {
    "name": "ipython",
    "version": 3
   },
   "file_extension": ".py",
   "mimetype": "text/x-python",
   "name": "python",
   "nbconvert_exporter": "python",
   "pygments_lexer": "ipython3",
   "version": "3.6.5"
  }
 },
 "nbformat": 4,
 "nbformat_minor": 4
}
