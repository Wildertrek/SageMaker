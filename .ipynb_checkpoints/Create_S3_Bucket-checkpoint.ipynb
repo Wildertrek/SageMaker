{
 "cells": [
  {
   "cell_type": "markdown",
   "metadata": {},
   "source": [
    "## Create S3 Bucket"
   ]
  },
  {
   "cell_type": "markdown",
   "metadata": {},
   "source": [
    "### First thing we have to create on AWS is an S3 bucket to keep our data contained in\n",
    "\n",
    "To use Python in our Juptyer notebooks on AWS we need to first import boto3\n",
    "\n",
    "- __Boto__ is the Amazon Web Services (AWS) SDK for Python. \n",
    "- It enables Python developers to create, configure, and manage AWS services, \n",
    "- such as EC2 and S3. Boto provides an easy to use, object-oriented API, \n",
    "- as well as low-level access to AWS services.\n",
    "\n",
    "https://boto3.amazonaws.com/v1/documentation/api/latest/index.html"
   ]
  },
  {
   "cell_type": "markdown",
   "metadata": {},
   "source": [
    "### Next we need to import the Sagemaker Python SDK:\n",
    "\n",
    "- __SageMaker Python SDK__ provides several high-level abstractions for working with Amazon SageMaker. These are:\n",
    "\n",
    "- __Estimators:__ Encapsulate training on SageMaker.\n",
    "\n",
    "- __Models:__ Encapsulate built ML models.\n",
    "\n",
    "- __Predictors:__ Provide real-time inference and transformation using Python data-types against a SageMaker endpoint.\n",
    "\n",
    "- __Session:__ Provides a collection of methods for working with SageMaker resources.\n",
    "\n",
    "- __Transformers:__ Encapsulate batch transform jobs for inference on SageMaker\n",
    "\n",
    "- __Processors:__ Encapsulate running processing jobs for data processing on SageMaker\n",
    "\n",
    "https://sagemaker.readthedocs.io/en/stable/index.html\n",
    "https://sagemaker.readthedocs.io/en/stable/overview.html"
   ]
  },
  {
   "cell_type": "code",
   "execution_count": 18,
   "metadata": {},
   "outputs": [],
   "source": [
    "import boto3\n",
    "import sagemaker\n",
    "\n",
    "# Get current region \n",
    "session = boto3.session.Session()\n",
    "region_name = session.region_name\n",
    "\n",
    "# Get SageMaker session & default S3 bucket\n",
    "sagemaker_session = sagemaker.Session()\n",
    "bucket = sagemaker_session.default_bucket()"
   ]
  },
  {
   "cell_type": "markdown",
   "metadata": {},
   "source": [
    "### Check to see if was created"
   ]
  },
  {
   "cell_type": "code",
   "execution_count": 19,
   "metadata": {},
   "outputs": [
    {
     "name": "stdout",
     "output_type": "stream",
     "text": [
      "Default bucket: sagemaker-us-east-2-533787958253\n"
     ]
    }
   ],
   "source": [
    "print('Default bucket: {}'.format(bucket))"
   ]
  },
  {
   "cell_type": "markdown",
   "metadata": {},
   "source": [
    "### Verify S3 Bucket Creation"
   ]
  },
  {
   "cell_type": "code",
   "execution_count": 22,
   "metadata": {},
   "outputs": [
    {
     "name": "stdout",
     "output_type": "stream",
     "text": [
      "2020-05-02 10:34:35 coe-ai-rekognize-joe-anil-testimony\n",
      "2020-03-04 22:00:41 coe-ai-video\n",
      "2020-03-04 19:39:23 coe-cal-ai-polly-anil\n",
      "2020-03-04 17:56:16 coe-faas\n",
      "2020-03-26 17:28:18 coe-opm-faces\n",
      "2020-04-27 14:05:08 sagemaker-us-east-2-533787958253\n"
     ]
    }
   ],
   "source": [
    "%%bash\n",
    "aws s3 ls s3://${bucket}/"
   ]
  },
  {
   "cell_type": "code",
   "execution_count": 16,
   "metadata": {},
   "outputs": [],
   "source": [
    "# Another way to retrieve the list of existing buckets and glean more data\n",
    "s3 = boto3.client('s3')\n",
    "response = s3.list_buckets()"
   ]
  },
  {
   "cell_type": "code",
   "execution_count": 21,
   "metadata": {},
   "outputs": [
    {
     "name": "stdout",
     "output_type": "stream",
     "text": [
      "{'ResponseMetadata': {'RequestId': 'A786538EAF7FDADF', 'HostId': 'oNnm0liI66TZ2aqGFpyEpBk9+hbAzuAdySdRetQEukhpB9MJ7RXUNs46gwKKPjZwUBi7wPBtK4E=', 'HTTPStatusCode': 200, 'HTTPHeaders': {'x-amz-id-2': 'oNnm0liI66TZ2aqGFpyEpBk9+hbAzuAdySdRetQEukhpB9MJ7RXUNs46gwKKPjZwUBi7wPBtK4E=', 'x-amz-request-id': 'A786538EAF7FDADF', 'date': 'Sat, 02 May 2020 10:23:02 GMT', 'content-type': 'application/xml', 'transfer-encoding': 'chunked', 'server': 'AmazonS3'}, 'RetryAttempts': 0}, 'Buckets': [{'Name': 'coe-ai-video', 'CreationDate': datetime.datetime(2020, 3, 4, 22, 0, 41, tzinfo=tzlocal())}, {'Name': 'coe-cal-ai-polly-anil', 'CreationDate': datetime.datetime(2020, 3, 4, 19, 39, 23, tzinfo=tzlocal())}, {'Name': 'coe-faas', 'CreationDate': datetime.datetime(2020, 3, 4, 17, 56, 16, tzinfo=tzlocal())}, {'Name': 'coe-opm-faces', 'CreationDate': datetime.datetime(2020, 3, 26, 17, 28, 18, tzinfo=tzlocal())}, {'Name': 'rekognition-video-console-demo-cmh-533787958253-tubndls8jejq0n', 'CreationDate': datetime.datetime(2020, 3, 9, 16, 58, 45, tzinfo=tzlocal())}, {'Name': 'sagemaker-us-east-2-533787958253', 'CreationDate': datetime.datetime(2020, 4, 27, 14, 5, 8, tzinfo=tzlocal())}], 'Owner': {'ID': '5c16ee03e307739591b6da3c87beb77a30606bdfa07f010c71a6e0024b6f8a7a'}}\n"
     ]
    }
   ],
   "source": [
    "print(response)"
   ]
  },
  {
   "cell_type": "code",
   "execution_count": null,
   "metadata": {},
   "outputs": [],
   "source": []
  }
 ],
 "metadata": {
  "kernelspec": {
   "display_name": "Python 3",
   "language": "python",
   "name": "python3"
  },
  "language_info": {
   "codemirror_mode": {
    "name": "ipython",
    "version": 3
   },
   "file_extension": ".py",
   "mimetype": "text/x-python",
   "name": "python",
   "nbconvert_exporter": "python",
   "pygments_lexer": "ipython3",
   "version": "3.7.4"
  }
 },
 "nbformat": 4,
 "nbformat_minor": 4
}
